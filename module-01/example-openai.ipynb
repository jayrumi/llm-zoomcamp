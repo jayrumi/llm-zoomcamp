{
 "cells": [
  {
   "cell_type": "code",
   "execution_count": 4,
   "id": "d6a5739f-bb87-4206-bc92-53f41db41810",
   "metadata": {},
   "outputs": [],
   "source": [
    "from openai import OpenAI\n",
    "import os"
   ]
  },
  {
   "cell_type": "code",
   "execution_count": 5,
   "id": "5e6ec506-17a5-4242-8445-0fe2aacaace4",
   "metadata": {},
   "outputs": [],
   "source": [
    "api_key = os.environ['OPENAI_API_KEY']\n",
    "client = OpenAI(api_key=api_key)"
   ]
  },
  {
   "cell_type": "code",
   "execution_count": 27,
   "id": "f814544c-0c9c-447b-ab99-17db74dee226",
   "metadata": {},
   "outputs": [],
   "source": [
    "response = client.chat.completions.create(\n",
    "    model=\"gpt-4o\",\n",
    "    messages=[{\"role\": \"user\", \"content\": \"is it to late to join the course?\"}]\n",
    ")"
   ]
  },
  {
   "cell_type": "code",
   "execution_count": 30,
   "id": "9a8da1a9-e80a-4d20-9e37-5f78098670c8",
   "metadata": {},
   "outputs": [
    {
     "data": {
      "text/plain": [
       "\"Whether it's too late to join a course depends on several factors, and it's best to check directly with the course provider or institution. Here are some considerations to help you determine if you can still join:\\n\\n1. **Enrollment Deadlines:** Many courses have specific enrollment periods. Check if the deadline has passed.\\n\\n2. **Course Progress:** For ongoing courses, consider how much content has already been covered and whether you can catch up.\\n\\n3. **Instructor Policies:** Some instructors may be flexible and allow late enrollments on a case-by-case basis.\\n\\n4. **Course Type:** Online courses often offer more flexibility with start dates compared to in-person classes.\\n\\n5. **Availability:** Ensure that there are still available spots in the course.\\n\\nIf you provide more specific details, I can offer more tailored advice. However, the best course of action is to contact the course provider directly.\""
      ]
     },
     "execution_count": 30,
     "metadata": {},
     "output_type": "execute_result"
    }
   ],
   "source": [
    "response.choices[0].message.content"
   ]
  },
  {
   "cell_type": "code",
   "execution_count": null,
   "id": "19775e72-1d2b-4457-9637-eaedacb6ecc2",
   "metadata": {},
   "outputs": [],
   "source": []
  }
 ],
 "metadata": {
  "kernelspec": {
   "display_name": "Python 3 (ipykernel)",
   "language": "python",
   "name": "python3"
  },
  "language_info": {
   "codemirror_mode": {
    "name": "ipython",
    "version": 3
   },
   "file_extension": ".py",
   "mimetype": "text/x-python",
   "name": "python",
   "nbconvert_exporter": "python",
   "pygments_lexer": "ipython3",
   "version": "3.10.13"
  }
 },
 "nbformat": 4,
 "nbformat_minor": 5
}
